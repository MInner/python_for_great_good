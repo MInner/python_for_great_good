{
 "metadata": {
  "name": "",
  "signature": "sha256:465dce8d8c57ab44c7e8f22b113c43714a0f418657c422ae9f927b7e61d91ee8"
 },
 "nbformat": 3,
 "nbformat_minor": 0,
 "worksheets": [
  {
   "cells": [
    {
     "cell_type": "markdown",
     "metadata": {},
     "source": [
      "# Class 1 lecutre notes\n",
      "\n",
      "Anybody who can manage cam, sound and screencast and paste them together?-\n",
      "\n",
      "## Structure of course\n",
      "\n",
      "- 5-8-10 lectures (how many times a week? 1-2-3?)\n",
      "- lecture notes with HW and additional readings inside\n",
      "\n",
      "## Poll\n",
      "Your level of CS-background (don't be shy):\n",
      "\n",
      "- I've written some __projects__ in C\\C++ (other?)\n",
      "- I've written __lots of__ university \"lab works\" in C\\C++\n",
      "- I've written __some (>3)__ university \"labs\" in C\\C++\n",
      "- I've written few basic progamms in my life (in school for example, on whatever language)\n",
      "- I've seen some code and I guess I can read some pieces it (e.g. have an idea of what \"variable\" is)\n",
      "- I've never written any code, my I've been working in Excel for a while\n",
      "- I've never written any code, I've never used Excel\n",
      "\n",
      "## Python \n",
      "\n",
      "- [general purpuse](http://en.wikipedia.org/wiki/General-purpose_programming_language): can be used for everything (R, Matlab, Maple are only for science\\statistics)\n",
      "- [interpreted](http://en.wikipedia.org/wiki/Interpreted_language): runed by some interpreter line-by-line (in fact [bytecode](http://en.wikipedia.org/wiki/Bytecode); [pypy](http://en.wikipedia.org/wiki/Just-in-time_compilation) - JIT for python, works faster but problems with C-modules)\n",
      "- simple\n",
      "- modular: python modules, pretty [way](https://docs.python.org/2/extending/extending.html) to write C-extensions (all math libraries are written in C that's why they work almost as fast as native code)\n",
      "\n",
      "IPython notebook (where you are now) - web view of Python interpreter (real python interpreter is a conslone program)\n",
      "\n",
      "Python 2 vs 3:\n",
      "\n",
      "- 2 has more libraries (not all ported to python 3)\n",
      "- 3 easier to work with non-[ASCII](http://en.wikipedia.org/wiki/ASCII) (non-english) strings\n",
      "\n",
      "we are working with python 2.7\n",
      "\n",
      "## Easter egg:"
     ]
    },
    {
     "cell_type": "code",
     "collapsed": false,
     "input": [
      "import this"
     ],
     "language": "python",
     "metadata": {},
     "outputs": [
      {
       "output_type": "stream",
       "stream": "stdout",
       "text": [
        "The Zen of Python, by Tim Peters\n",
        "\n",
        "Beautiful is better than ugly.\n",
        "Explicit is better than implicit.\n",
        "Simple is better than complex.\n",
        "Complex is better than complicated.\n",
        "Flat is better than nested.\n",
        "Sparse is better than dense.\n",
        "Readability counts.\n",
        "Special cases aren't special enough to break the rules.\n",
        "Although practicality beats purity.\n",
        "Errors should never pass silently.\n",
        "Unless explicitly silenced.\n",
        "In the face of ambiguity, refuse the temptation to guess.\n",
        "There should be one-- and preferably only one --obvious way to do it.\n",
        "Although that way may not be obvious at first unless you're Dutch.\n",
        "Now is better than never.\n",
        "Although never is often better than *right* now.\n",
        "If the implementation is hard to explain, it's a bad idea.\n",
        "If the implementation is easy to explain, it may be a good idea.\n",
        "Namespaces are one honking great idea -- let's do more of those!\n"
       ]
      }
     ],
     "prompt_number": 1
    },
    {
     "cell_type": "markdown",
     "metadata": {},
     "source": [
      "__HW__: read Python Zen, google new terms, and imagine and write situations were ignoring those rules might be harmful"
     ]
    },
    {
     "cell_type": "markdown",
     "metadata": {},
     "source": [
      "## Assignment\n",
      "\n",
      "All temporary info is stored in variables. Variables are \"cells where you put you data into\". \n",
      "If you don't put your data into a variable it just \"blows away\".\n",
      "\n",
      "To \"[put][1] number 5 into a cell named X\" you should do:\n",
      "\n",
      "  [1]: https://en.wikipedia.org/wiki/Assignment_(computer_science)"
     ]
    },
    {
     "cell_type": "code",
     "collapsed": false,
     "input": [
      "X = 5"
     ],
     "language": "python",
     "metadata": {},
     "outputs": [],
     "prompt_number": 5
    },
    {
     "cell_type": "markdown",
     "metadata": {},
     "source": [
      "to \"see what is inside cell named X\" you should use syntax (now it's just \"magic\", I'll explain later):"
     ]
    },
    {
     "cell_type": "code",
     "collapsed": false,
     "input": [
      "print X"
     ],
     "language": "python",
     "metadata": {},
     "outputs": [
      {
       "output_type": "stream",
       "stream": "stdout",
       "text": [
        "5\n"
       ]
      }
     ],
     "prompt_number": 3
    },
    {
     "cell_type": "markdown",
     "metadata": {},
     "source": [
      "In fact, in python you do like have two sets:\n",
      "\n",
      "- one with variable names\n",
      "- one with variable values\n",
      "\n",
      "and link between them"
     ]
    },
    {
     "cell_type": "markdown",
     "metadata": {},
     "source": [
      "![alt text](http://cs.stanford.edu/people/nick/python-in-one-easy-lesson/python-dict.png)"
     ]
    },
    {
     "cell_type": "markdown",
     "metadata": {},
     "source": [
      "and when you'd do \"X = 10\" now, that would create object 10 in right column and link _existing_ key \"X\" to it. And there would be nothing linking to 5 anymore.\n",
      "\n",
      "__Additional__: in fact no, Python \"prefabs\" (= \"creates beforehand\") all integer numbers in memory"
     ]
    },
    {
     "cell_type": "code",
     "collapsed": false,
     "input": [
      "X = 5\n",
      "X = 10\n",
      "print X"
     ],
     "language": "python",
     "metadata": {},
     "outputs": [
      {
       "output_type": "stream",
       "stream": "stdout",
       "text": [
        "10\n"
       ]
      }
     ],
     "prompt_number": 6
    },
    {
     "cell_type": "markdown",
     "metadata": {},
     "source": [
      "\n",
      "Also, you can have a computable [expression](http://stackoverflow.com/questions/4728073/what-is-the-difference-between-an-expression-and-a-statement-in-python) in the right part of [assignment][1]. Than, the right part will be computed first, and then assigned to the variable presented on the left part.\n",
      "\n",
      "  [1]: https://en.wikipedia.org/wiki/Assignment_(computer_science)"
     ]
    },
    {
     "cell_type": "code",
     "collapsed": false,
     "input": [
      "X = 9 + 1\n",
      "print X"
     ],
     "language": "python",
     "metadata": {},
     "outputs": [
      {
       "output_type": "stream",
       "stream": "stdout",
       "text": [
        "10\n"
       ]
      }
     ],
     "prompt_number": 56
    },
    {
     "cell_type": "code",
     "collapsed": false,
     "input": [
      "X = X + 2\n",
      "print X"
     ],
     "language": "python",
     "metadata": {},
     "outputs": [
      {
       "output_type": "stream",
       "stream": "stdout",
       "text": [
        "12\n"
       ]
      }
     ],
     "prompt_number": 57
    },
    {
     "cell_type": "markdown",
     "metadata": {},
     "source": [
      "## Data types\n",
      "\n",
      "In python there are few \"basic data types\" = \"types of boxes you put your data into\" = \"tyles of values in right column\", every variable has some type:\n",
      "\n",
      "- integer\n",
      "- float\n",
      "- bool\n",
      "- string\n",
      "- list\n",
      "- tuple\n",
      "- dict\n",
      "- custom user defined class\n",
      "\n",
      "we'll talk about them now.\n",
      "\n",
      "Type of variable = set of \n",
      "\n",
      "- __restrictions on values__ of variable\n",
      "- __methods of interacting__ with variable\n",
      "\n",
      "__HW__: if we had types \"Age\" and \"(integer) Temperature C\" - is it the same type with different names or same (hint: value restrictions)\n",
      "\n",
      "__Additional__: in Python we have [implicit declaration][1], so we don't have to tell compiler \"now I will use variable X of type integer\". If that is the first time you use variable \"X\" and the value you pass is of type Integer, it will understand that X is the variable of type int.\n",
      "\n",
      "__Additional__: also python is a [dynamic typed][2], [duck typed][3] programming language.\n",
      "\n",
      "  [1]: https://en.wikipedia.org/wiki/Declaration_(computer_programming)#Variables\n",
      "  [2]: http://en.wikipedia.org/wiki/Type_system#Dynamic_type-checking_and_runtime_type_information\n",
      "  [3]: http://en.wikipedia.org/wiki/Duck_typing\n",
      "  \n",
      "### Integer"
     ]
    },
    {
     "cell_type": "code",
     "collapsed": false,
     "input": [
      "# comment - ignored\n",
      "\n",
      "X = 1\n",
      "X = 10\n",
      "X = 123123123\n",
      "print X\n",
      "\n",
      "X = 10+2\n",
      "print X\n",
      "\n",
      "X += 2\n",
      "X = X + 2\n",
      "print X\n",
      "\n",
      "X -= 2\n",
      "print X\n",
      "\n",
      "X = 19/2 # integer division\n",
      "print X\n",
      "\n",
      "X = 19.0/12\n",
      "print X\n",
      "print '%.3f' % (X)"
     ],
     "language": "python",
     "metadata": {},
     "outputs": [
      {
       "output_type": "stream",
       "stream": "stdout",
       "text": [
        "123123123\n",
        "12\n",
        "16\n",
        "14\n",
        "9\n",
        "1.58333333333\n",
        "1.583\n"
       ]
      }
     ],
     "prompt_number": 7
    },
    {
     "cell_type": "markdown",
     "metadata": {},
     "source": [
      "%d - integer\n",
      "%f - float\n",
      "%.3f - float 3 digits\n",
      "%s - string"
     ]
    },
    {
     "cell_type": "code",
     "collapsed": false,
     "input": [
      "print 1/0"
     ],
     "language": "python",
     "metadata": {},
     "outputs": [
      {
       "ename": "ZeroDivisionError",
       "evalue": "integer division or modulo by zero",
       "output_type": "pyerr",
       "traceback": [
        "\u001b[1;31m---------------------------------------------------------------------------\u001b[0m\n\u001b[1;31mZeroDivisionError\u001b[0m                         Traceback (most recent call last)",
        "\u001b[1;32m<ipython-input-4-e19d6e6ac7e1>\u001b[0m in \u001b[0;36m<module>\u001b[1;34m()\u001b[0m\n\u001b[1;32m----> 1\u001b[1;33m \u001b[1;32mprint\u001b[0m \u001b[1;36m1\u001b[0m\u001b[1;33m/\u001b[0m\u001b[1;36m0\u001b[0m\u001b[1;33m\u001b[0m\u001b[0m\n\u001b[0m",
        "\u001b[1;31mZeroDivisionError\u001b[0m: integer division or modulo by zero"
       ]
      }
     ],
     "prompt_number": 4
    },
    {
     "cell_type": "markdown",
     "metadata": {},
     "source": [
      "### Floats ([floating point numbers](http://en.wikipedia.org/wiki/Floating_point))\n",
      "\n",
      "__Additional__: "
     ]
    },
    {
     "cell_type": "code",
     "collapsed": false,
     "input": [
      "Y = 10.2\n",
      "print Y\n",
      "\n",
      "Y = 23.4\n",
      "print Y/8\n",
      "\n",
      "Y = 1e-10\n",
      "print Y\n",
      "\n",
      "print Y*30\n",
      "\n",
      "Y = 1e-200*3.569475648336\n",
      "print Y"
     ],
     "language": "python",
     "metadata": {},
     "outputs": [
      {
       "output_type": "stream",
       "stream": "stdout",
       "text": [
        "10.2\n",
        "2.925\n",
        "1e-10\n",
        "3e-09\n",
        "3.56947564834e-200\n"
       ]
      }
     ],
     "prompt_number": 19
    },
    {
     "cell_type": "markdown",
     "metadata": {},
     "source": [
      "### [Bools](http://en.wikipedia.org/wiki/Boolean_algebra)\n",
      "\n",
      "Only two values: True and False"
     ]
    },
    {
     "cell_type": "code",
     "collapsed": false,
     "input": [
      "B = True\n",
      "C = False\n",
      "\n",
      "print B and C\n",
      "print B or C"
     ],
     "language": "python",
     "metadata": {},
     "outputs": [
      {
       "output_type": "stream",
       "stream": "stdout",
       "text": [
        "False\n",
        "True\n"
       ]
      }
     ],
     "prompt_number": 19
    },
    {
     "cell_type": "markdown",
     "metadata": {},
     "source": [
      "### Stings"
     ]
    },
    {
     "cell_type": "code",
     "collapsed": false,
     "input": [
      "S = 'abc'\n",
      "D = \"efk\"\n",
      "K = S + D\n",
      "\n",
      "print S + D\n",
      "print K\n",
      "\n",
      "print '12345'\n",
      "print 12345"
     ],
     "language": "python",
     "metadata": {},
     "outputs": [
      {
       "output_type": "stream",
       "stream": "stdout",
       "text": [
        "abcefk\n",
        "abcefk\n",
        "12345\n",
        "12345\n"
       ]
      }
     ],
     "prompt_number": 21
    },
    {
     "cell_type": "markdown",
     "metadata": {},
     "source": [
      "__Additional__: You can convert between types using functions: int(), float(), str(). You can get type using type() function"
     ]
    },
    {
     "cell_type": "code",
     "collapsed": false,
     "input": [
      "print int(10.23423)\n",
      "print int('10')\n",
      "print int(\"dog\")"
     ],
     "language": "python",
     "metadata": {},
     "outputs": [
      {
       "output_type": "stream",
       "stream": "stdout",
       "text": [
        "10\n",
        "10\n"
       ]
      },
      {
       "ename": "ValueError",
       "evalue": "invalid literal for int() with base 10: 'dog'",
       "output_type": "pyerr",
       "traceback": [
        "\u001b[1;31m---------------------------------------------------------------------------\u001b[0m\n\u001b[1;31mValueError\u001b[0m                                Traceback (most recent call last)",
        "\u001b[1;32m<ipython-input-20-3e9aac3fe6cf>\u001b[0m in \u001b[0;36m<module>\u001b[1;34m()\u001b[0m\n\u001b[0;32m      1\u001b[0m \u001b[1;32mprint\u001b[0m \u001b[0mint\u001b[0m\u001b[1;33m(\u001b[0m\u001b[1;36m10.23423\u001b[0m\u001b[1;33m)\u001b[0m\u001b[1;33m\u001b[0m\u001b[0m\n\u001b[0;32m      2\u001b[0m \u001b[1;32mprint\u001b[0m \u001b[0mint\u001b[0m\u001b[1;33m(\u001b[0m\u001b[1;34m'10'\u001b[0m\u001b[1;33m)\u001b[0m\u001b[1;33m\u001b[0m\u001b[0m\n\u001b[1;32m----> 3\u001b[1;33m \u001b[1;32mprint\u001b[0m \u001b[0mint\u001b[0m\u001b[1;33m(\u001b[0m\u001b[1;34m\"dog\"\u001b[0m\u001b[1;33m)\u001b[0m\u001b[1;33m\u001b[0m\u001b[0m\n\u001b[0m",
        "\u001b[1;31mValueError\u001b[0m: invalid literal for int() with base 10: 'dog'"
       ]
      }
     ],
     "prompt_number": 20
    },
    {
     "cell_type": "markdown",
     "metadata": {},
     "source": [
      "### Play!"
     ]
    },
    {
     "cell_type": "code",
     "collapsed": false,
     "input": [],
     "language": "python",
     "metadata": {},
     "outputs": []
    },
    {
     "cell_type": "markdown",
     "metadata": {},
     "source": [
      "__HW__: What is the type of values\n",
      "\n",
      "- 10\n",
      "- 2.3\n",
      "- 10.0\n",
      "- '10.0'"
     ]
    },
    {
     "cell_type": "markdown",
     "metadata": {},
     "source": [
      "## (incut) Function call"
     ]
    },
    {
     "cell_type": "markdown",
     "metadata": {},
     "source": [
      "Function = object, black box with \n",
      "\n",
      "- input\n",
      "- body\n",
      "- output. \n",
      "\n",
      "When you call function you ask it 'do what you suppose to do'. Funciton call syntax is: \n",
      "\n",
      "    funcitonname(parametr1, parmetr2, .. )\n",
      "    \n",
      "Function _returns_ value. When value is returned, it '__replaces__' original function call."
     ]
    },
    {
     "cell_type": "code",
     "collapsed": false,
     "input": [
      "# abs(x) - takes one parametr (number), _returns_ absolute value of number passed\n",
      "\n",
      "print abs(10)\n",
      "print abs(-10)\n",
      "print 10"
     ],
     "language": "python",
     "metadata": {},
     "outputs": [
      {
       "output_type": "stream",
       "stream": "stdout",
       "text": [
        "10\n",
        "10\n",
        "10\n"
       ]
      }
     ],
     "prompt_number": 33
    },
    {
     "cell_type": "code",
     "collapsed": false,
     "input": [
      "d = -56\n",
      "print abs(d)"
     ],
     "language": "python",
     "metadata": {},
     "outputs": [
      {
       "output_type": "stream",
       "stream": "stdout",
       "text": [
        "56\n"
       ]
      }
     ],
     "prompt_number": 34
    },
    {
     "cell_type": "code",
     "collapsed": false,
     "input": [
      "d = -56\n",
      "e = abs(d)\n",
      "print e"
     ],
     "language": "python",
     "metadata": {},
     "outputs": [
      {
       "output_type": "stream",
       "stream": "stdout",
       "text": [
        "56\n"
       ]
      }
     ],
     "prompt_number": 36
    },
    {
     "cell_type": "markdown",
     "metadata": {},
     "source": [
      "### List\n",
      "\n",
      "__ordered__ sequence of values under one name"
     ]
    },
    {
     "cell_type": "code",
     "collapsed": false,
     "input": [
      "a = [1, 2, 3]\n",
      "b = [True, False, 'abc', 3]\n",
      "c = [1, 2, [2, 3]]\n",
      "\n",
      "print a\n",
      "print b\n",
      "print c"
     ],
     "language": "python",
     "metadata": {},
     "outputs": [
      {
       "output_type": "stream",
       "stream": "stdout",
       "text": [
        "[1, 2, 3]\n",
        "[True, False, 'abc', 3]\n",
        "[1, 2, [2, 3]]\n"
       ]
      }
     ],
     "prompt_number": 23
    },
    {
     "cell_type": "markdown",
     "metadata": {},
     "source": [
      "__indexing__ is prefrormed by [] [operator][1] \n",
      "\n",
      "use integer numbers from 0 to len(a)-1\n",
      "\n",
      "  [1]: https://en.wikipedia.org/wiki/Operator_(computer_programming)"
     ]
    },
    {
     "cell_type": "code",
     "collapsed": false,
     "input": [
      "print len.__repr__\n",
      "print len(a)\n",
      "print a\n",
      "print a[2]\n",
      "\n",
      "d = 1\n",
      "print a[d]"
     ],
     "language": "python",
     "metadata": {},
     "outputs": [
      {
       "output_type": "stream",
       "stream": "stdout",
       "text": [
        "<method-wrapper '__repr__' of builtin_function_or_method object at 0x7f3fe87f2878>\n",
        "3\n",
        "[1, 2, 3]\n",
        "3\n",
        "2\n"
       ]
      }
     ],
     "prompt_number": 30
    },
    {
     "cell_type": "markdown",
     "metadata": {},
     "source": [
      "__HW__: is it a valid expression? what it would return?"
     ]
    },
    {
     "cell_type": "code",
     "collapsed": false,
     "input": [
      "d = 1\n",
      "print a[1+d]"
     ],
     "language": "python",
     "metadata": {},
     "outputs": [],
     "prompt_number": 39
    },
    {
     "cell_type": "markdown",
     "metadata": {},
     "source": [
      "__HW__: what would happend if we pass some other value (not integer) into indexing operator?"
     ]
    },
    {
     "cell_type": "markdown",
     "metadata": {},
     "source": [
      "List stores __links to values__, not values themselves."
     ]
    },
    {
     "cell_type": "code",
     "collapsed": false,
     "input": [
      "a = [1, 2, [1, 2]]\n",
      "i = 2\n",
      "b = a[i]\n",
      "a[i][0] = 3\n",
      "print b"
     ],
     "language": "python",
     "metadata": {},
     "outputs": [
      {
       "output_type": "stream",
       "stream": "stdout",
       "text": [
        "[3, 2]\n"
       ]
      }
     ],
     "prompt_number": 41
    },
    {
     "cell_type": "code",
     "collapsed": false,
     "input": [
      "print [1, 2, 3] + [4, 5, 6]"
     ],
     "language": "python",
     "metadata": {},
     "outputs": [
      {
       "output_type": "stream",
       "stream": "stdout",
       "text": [
        "[1, 2, 3, 4, 5, 6]\n"
       ]
      }
     ],
     "prompt_number": 42
    },
    {
     "cell_type": "code",
     "collapsed": false,
     "input": [
      "d = [1, 2, 3]\n",
      "d.append(5)\n",
      "print d"
     ],
     "language": "python",
     "metadata": {},
     "outputs": [
      {
       "output_type": "stream",
       "stream": "stdout",
       "text": [
        "[1, 2, 3, 5]\n"
       ]
      }
     ],
     "prompt_number": 33
    },
    {
     "cell_type": "code",
     "collapsed": false,
     "input": [
      "d.append([2, 3])\n",
      "print d"
     ],
     "language": "python",
     "metadata": {},
     "outputs": [
      {
       "output_type": "stream",
       "stream": "stdout",
       "text": [
        "[1, 2, 3, 5, [2, 3]]\n"
       ]
      }
     ],
     "prompt_number": 34
    },
    {
     "cell_type": "code",
     "collapsed": false,
     "input": [
      "d.extend([2, 3])\n",
      "print d"
     ],
     "language": "python",
     "metadata": {},
     "outputs": [
      {
       "output_type": "stream",
       "stream": "stdout",
       "text": [
        "[1, 2, 3, 5, [2, 3], 2, 3]\n"
       ]
      }
     ],
     "prompt_number": 35
    },
    {
     "cell_type": "markdown",
     "metadata": {},
     "source": [
      "You can use __negative__ index = index \"from back\"."
     ]
    },
    {
     "cell_type": "code",
     "collapsed": false,
     "input": [
      "a = [1, 2, 3, 4, 5]\n",
      "print a[-1] # = 'first from the end'\n",
      "print a[-2]"
     ],
     "language": "python",
     "metadata": {},
     "outputs": [
      {
       "output_type": "stream",
       "stream": "stdout",
       "text": [
        "5\n",
        "4\n"
       ]
      }
     ],
     "prompt_number": 63
    },
    {
     "cell_type": "markdown",
     "metadata": {},
     "source": [
      "### Slice\n",
      "\n",
      "(copy)\n",
      "\n",
      "    list[i:j]\n",
      "\n",
      "List's elements __from i to j__ (without j-th)\n",
      "\n",
      "    list[i:j:k]\n",
      "\n",
      "List's elements from i to j (without j-th) __with step k__\n",
      "\n",
      "    list[i:]\n",
      "\n",
      "List's elements __from i till the end__\n",
      "\n",
      "    list[:j]\n",
      "\n",
      "List's elements __from the beginning to j__ (without j-th)\n",
      "\n",
      "    list[:]\n",
      "    \n",
      "Copy list"
     ]
    },
    {
     "cell_type": "code",
     "collapsed": false,
     "input": [
      "print d\n",
      "print d[2:5]"
     ],
     "language": "python",
     "metadata": {},
     "outputs": [
      {
       "output_type": "stream",
       "stream": "stdout",
       "text": [
        "[1, 2, 3, 5, [2, 3], 2, 3]\n",
        "[3, 5, [2, 3]]\n"
       ]
      }
     ],
     "prompt_number": 37
    },
    {
     "cell_type": "code",
     "collapsed": false,
     "input": [
      "a = [1, 2]\n",
      "b = a # link! not copy\n",
      "c = a[:]\n",
      "\n",
      "a.append(3)\n",
      "print a\n",
      "print b\n",
      "print c"
     ],
     "language": "python",
     "metadata": {},
     "outputs": [
      {
       "output_type": "stream",
       "stream": "stdout",
       "text": [
        "[1, 2, 3]\n",
        "[1, 2, 3]\n",
        "[1, 2]\n"
       ]
      }
     ],
     "prompt_number": 47
    },
    {
     "cell_type": "markdown",
     "metadata": {},
     "source": [
      "__HW__: \n",
      "\n",
      "- How to get last 5 elements of some list with step 2? (hint: negative indexes) \n",
      "- How to get reversed order list? (e.g. [1, 2, 3] -> [3, 2, 1])\n",
      "- How to get last 3 elements of list - reversed? (e.g. [1, 2, 3, 4, 5, 6] -> [6, 5, 4]"
     ]
    },
    {
     "cell_type": "markdown",
     "metadata": {},
     "source": [
      "### Tuples\n",
      "\n",
      "= immutable = unchangeable lists\n",
      "\n",
      "    (1, 2, 3)"
     ]
    },
    {
     "cell_type": "code",
     "collapsed": false,
     "input": [
      "a = (1, 2, 3)\n",
      "print a\n",
      "print a[0]\n",
      "a.append(4)"
     ],
     "language": "python",
     "metadata": {},
     "outputs": [
      {
       "output_type": "stream",
       "stream": "stdout",
       "text": [
        "(1, 2, 3)\n",
        "1\n"
       ]
      },
      {
       "ename": "AttributeError",
       "evalue": "'tuple' object has no attribute 'append'",
       "output_type": "pyerr",
       "traceback": [
        "\u001b[1;31m---------------------------------------------------------------------------\u001b[0m\n\u001b[1;31mAttributeError\u001b[0m                            Traceback (most recent call last)",
        "\u001b[1;32m<ipython-input-50-2233437d07e0>\u001b[0m in \u001b[0;36m<module>\u001b[1;34m()\u001b[0m\n\u001b[0;32m      2\u001b[0m \u001b[1;32mprint\u001b[0m \u001b[0ma\u001b[0m\u001b[1;33m\u001b[0m\u001b[0m\n\u001b[0;32m      3\u001b[0m \u001b[1;32mprint\u001b[0m \u001b[0ma\u001b[0m\u001b[1;33m[\u001b[0m\u001b[1;36m0\u001b[0m\u001b[1;33m]\u001b[0m\u001b[1;33m\u001b[0m\u001b[0m\n\u001b[1;32m----> 4\u001b[1;33m \u001b[0ma\u001b[0m\u001b[1;33m.\u001b[0m\u001b[0mappend\u001b[0m\u001b[1;33m(\u001b[0m\u001b[1;36m4\u001b[0m\u001b[1;33m)\u001b[0m\u001b[1;33m\u001b[0m\u001b[0m\n\u001b[0m",
        "\u001b[1;31mAttributeError\u001b[0m: 'tuple' object has no attribute 'append'"
       ]
      }
     ],
     "prompt_number": 50
    },
    {
     "cell_type": "markdown",
     "metadata": {},
     "source": [
      "### Dict\n",
      "\n",
      "__Unordered__ key-value storage (= [hash-table](http://en.wikipedia.org/wiki/Hash_table))\n",
      "\n",
      "key must be immutbale (int, float, string, tuple)\n",
      "\n",
      "  [1]: http://en.wikipedia.org/wiki/Scope_(computer_science)\n",
      "  \n",
      "__Additional__: program [scope][1] is actually alsomt dict"
     ]
    },
    {
     "cell_type": "code",
     "collapsed": false,
     "input": [
      "a = {}\n",
      "a['b'] = 'c'\n",
      "a[1] = 'e'\n",
      "\n",
      "print a"
     ],
     "language": "python",
     "metadata": {},
     "outputs": [
      {
       "output_type": "stream",
       "stream": "stdout",
       "text": [
        "{1: 'e', 'b': 'c'}\n"
       ]
      }
     ],
     "prompt_number": 52
    },
    {
     "cell_type": "markdown",
     "metadata": {},
     "source": [
      "### Mutability\n",
      "\n",
      "Mutable = changeble = the value __in the__ 'value cell' can be changed.\n",
      "\n",
      "Int, Float, String, Tuple - immutable\n",
      "\n",
      "List, Dict, Custom types - mutable\n",
      "\n",
      "But if int is immutable, what happens when you do that?"
     ]
    },
    {
     "cell_type": "code",
     "collapsed": false,
     "input": [
      "a = 3\n",
      "a = a + 2\n",
      "a += 2\n",
      "print a"
     ],
     "language": "python",
     "metadata": {},
     "outputs": [
      {
       "output_type": "stream",
       "stream": "stdout",
       "text": [
        "7\n"
       ]
      }
     ],
     "prompt_number": 54
    },
    {
     "cell_type": "markdown",
     "metadata": {},
     "source": [
      "# [Flow control](http://en.wikipedia.org/wiki/Control_flow)\n",
      "\n",
      "## If\n",
      "\n",
      "    if exp:\n",
      "        stm1\n",
      "    else:\n",
      "        smt2"
     ]
    },
    {
     "cell_type": "code",
     "collapsed": false,
     "input": [
      "a = 3\n",
      "if a > 2:\n",
      "    print 'a > 2'\n",
      "else:\n",
      "    print 'a <= 2'"
     ],
     "language": "python",
     "metadata": {},
     "outputs": [
      {
       "output_type": "stream",
       "stream": "stdout",
       "text": [
        "a > 2\n"
       ]
      }
     ],
     "prompt_number": 1
    },
    {
     "cell_type": "markdown",
     "metadata": {},
     "source": [
      "## For\n",
      "\n",
      "    for var in list:\n",
      "        stm(var)"
     ]
    },
    {
     "cell_type": "code",
     "collapsed": false,
     "input": [
      "for i in [1, 2, 3, 4]:\n",
      "    print i"
     ],
     "language": "python",
     "metadata": {},
     "outputs": [
      {
       "output_type": "stream",
       "stream": "stdout",
       "text": [
        "1\n",
        "2\n",
        "3\n",
        "4\n"
       ]
      }
     ],
     "prompt_number": 2
    },
    {
     "cell_type": "code",
     "collapsed": false,
     "input": [
      "print range(5)\n",
      "\n",
      "for i in range(10):\n",
      "    if i%2 == 0:\n",
      "        print i"
     ],
     "language": "python",
     "metadata": {},
     "outputs": [
      {
       "output_type": "stream",
       "stream": "stdout",
       "text": [
        "[0, 1, 2, 3, 4]\n",
        "0\n",
        "2\n",
        "4\n",
        "6\n",
        "8\n"
       ]
      }
     ],
     "prompt_number": 3
    },
    {
     "cell_type": "markdown",
     "metadata": {},
     "source": [
      "## While\n",
      "\n",
      "    while exp:\n",
      "        smt"
     ]
    },
    {
     "cell_type": "code",
     "collapsed": false,
     "input": [
      "i = 0\n",
      "while i < 3:\n",
      "    print i\n",
      "    i += 0.4"
     ],
     "language": "python",
     "metadata": {},
     "outputs": [
      {
       "output_type": "stream",
       "stream": "stdout",
       "text": [
        "0\n",
        "0.4\n",
        "0.8\n",
        "1.2\n",
        "1.6\n",
        "2.0\n",
        "2.4\n",
        "2.8\n"
       ]
      }
     ],
     "prompt_number": 6
    },
    {
     "cell_type": "markdown",
     "metadata": {},
     "source": [
      "## Exceptions\n",
      "\n",
      "    try:\n",
      "        smt\n",
      "    except [Err]:\n",
      "        smt"
     ]
    },
    {
     "cell_type": "code",
     "collapsed": false,
     "input": [
      "r = [2, 3, 0, 1, 2, 0]\n",
      "\n",
      "for i in r:\n",
      "    print 1.0/i"
     ],
     "language": "python",
     "metadata": {},
     "outputs": [
      {
       "output_type": "stream",
       "stream": "stdout",
       "text": [
        "0.5\n",
        "0.333333333333\n"
       ]
      },
      {
       "ename": "ZeroDivisionError",
       "evalue": "float division by zero",
       "output_type": "pyerr",
       "traceback": [
        "\u001b[1;31m---------------------------------------------------------------------------\u001b[0m\n\u001b[1;31mZeroDivisionError\u001b[0m                         Traceback (most recent call last)",
        "\u001b[1;32m<ipython-input-9-d5beec6abb9f>\u001b[0m in \u001b[0;36m<module>\u001b[1;34m()\u001b[0m\n\u001b[0;32m      2\u001b[0m \u001b[1;33m\u001b[0m\u001b[0m\n\u001b[0;32m      3\u001b[0m \u001b[1;32mfor\u001b[0m \u001b[0mi\u001b[0m \u001b[1;32min\u001b[0m \u001b[0mr\u001b[0m\u001b[1;33m:\u001b[0m\u001b[1;33m\u001b[0m\u001b[0m\n\u001b[1;32m----> 4\u001b[1;33m     \u001b[1;32mprint\u001b[0m \u001b[1;36m1.0\u001b[0m\u001b[1;33m/\u001b[0m\u001b[0mi\u001b[0m\u001b[1;33m\u001b[0m\u001b[0m\n\u001b[0m",
        "\u001b[1;31mZeroDivisionError\u001b[0m: float division by zero"
       ]
      }
     ],
     "prompt_number": 9
    },
    {
     "cell_type": "code",
     "collapsed": false,
     "input": [
      "r = [2, 3, 0, 1, 2, 0]\n",
      "\n",
      "for i in r:\n",
      "    try:\n",
      "        print 1.0/i\n",
      "    except ZeroDivisionError:\n",
      "        print 0.0\n",
      "        \n",
      "for i in r:\n",
      "    try:\n",
      "        print 1.0/i\n",
      "    except:\n",
      "        print 0.0"
     ],
     "language": "python",
     "metadata": {},
     "outputs": [
      {
       "output_type": "stream",
       "stream": "stdout",
       "text": [
        "0.5\n",
        "0.333333333333\n",
        "0.0\n",
        "1.0\n",
        "0.5\n",
        "0.0\n",
        "0.5\n",
        "0.333333333333\n",
        "0.0\n",
        "1.0\n",
        "0.5\n",
        "0.0\n"
       ]
      }
     ],
     "prompt_number": 1
    },
    {
     "cell_type": "markdown",
     "metadata": {},
     "source": [
      "break - exit loop\n",
      "\n",
      "continue - next iteration"
     ]
    },
    {
     "cell_type": "markdown",
     "metadata": {},
     "source": [
      "## List comprehantions\n",
      "\n",
      "Very powerfull tool, use it."
     ]
    },
    {
     "cell_type": "code",
     "collapsed": false,
     "input": [
      "a = []\n",
      "for i in range(10):\n",
      "    a.append(i**2)\n",
      "\n",
      "print a\n",
      "    \n",
      "a = [i**2 for i in range(10)]\n",
      "print a"
     ],
     "language": "python",
     "metadata": {},
     "outputs": [
      {
       "output_type": "stream",
       "stream": "stdout",
       "text": [
        "[0, 1, 4, 9, 16, 25, 36, 49, 64, 81]\n",
        "[0, 1, 4, 9, 16, 25, 36, 49, 64, 81]\n"
       ]
      }
     ],
     "prompt_number": 13
    },
    {
     "cell_type": "code",
     "collapsed": false,
     "input": [
      "s = \"i've seen a cat with foo bar\"\n",
      "\n",
      "l = []\n",
      "for word in s.split():\n",
      "    l.append(word[1:])\n",
      "print l\n",
      "\n",
      "print [word[1:] for word in s.split()]\n",
      "\n",
      "l = []\n",
      "for word in s.split():\n",
      "    l.append(word[::-1])\n",
      "print ' '.join(l)\n",
      "\n",
      "print ' '.join([word[::-1] for word in s.split()])"
     ],
     "language": "python",
     "metadata": {},
     "outputs": [
      {
       "output_type": "stream",
       "stream": "stdout",
       "text": [
        "[\"'ve\", 'een', '', 'at', 'ith', 'oo', 'ar']\n",
        "[\"'ve\", 'een', '', 'at', 'ith', 'oo', 'ar']\n",
        "ev'i nees a tac htiw oof rab\n",
        "ev'i nees a tac htiw oof rab\n"
       ]
      }
     ],
     "prompt_number": 5
    },
    {
     "cell_type": "markdown",
     "metadata": {},
     "source": [
      "## Zip, product, *, etc"
     ]
    },
    {
     "cell_type": "code",
     "collapsed": false,
     "input": [
      "print zip(['a', 'b', 'c'], range(3))"
     ],
     "language": "python",
     "metadata": {},
     "outputs": [
      {
       "output_type": "stream",
       "stream": "stdout",
       "text": [
        "[('a', 0), ('b', 1), ('c', 2)]\n"
       ]
      }
     ],
     "prompt_number": 6
    },
    {
     "cell_type": "code",
     "collapsed": false,
     "input": [
      "print zip(['a', 'b', 'c'], range(10))"
     ],
     "language": "python",
     "metadata": {},
     "outputs": [
      {
       "output_type": "stream",
       "stream": "stdout",
       "text": [
        "[('a', 0), ('b', 1), ('c', 2)]\n"
       ]
      }
     ],
     "prompt_number": 7
    },
    {
     "cell_type": "code",
     "collapsed": false,
     "input": [
      "from itertools import product\n",
      "print product([1, 2], [3, 4]) # decart product, lazy!\n",
      "\n",
      "print list(product([1, 2], [3, 4]))"
     ],
     "language": "python",
     "metadata": {},
     "outputs": [
      {
       "output_type": "stream",
       "stream": "stdout",
       "text": [
        "<itertools.product object at 0x7fd18809dfa0>\n",
        "[(1, 3), (1, 4), (2, 3), (2, 4)]\n"
       ]
      }
     ],
     "prompt_number": 17
    },
    {
     "cell_type": "code",
     "collapsed": false,
     "input": [
      "data_time = [(x, 2*y - x) for x, y in zip(range(100, 110), range(200, 300, 10))]\n",
      "print data_time\n",
      "\n",
      "data, time = zip(*data_time)\n",
      "print data\n",
      "print time"
     ],
     "language": "python",
     "metadata": {},
     "outputs": [
      {
       "output_type": "stream",
       "stream": "stdout",
       "text": [
        "[(100, 300), (101, 319), (102, 338), (103, 357), (104, 376), (105, 395), (106, 414), (107, 433), (108, 452), (109, 471)]\n",
        "(100, 101, 102, 103, 104, 105, 106, 107, 108, 109)\n",
        "(300, 319, 338, 357, 376, 395, 414, 433, 452, 471)\n"
       ]
      }
     ],
     "prompt_number": 13
    },
    {
     "cell_type": "markdown",
     "metadata": {},
     "source": [
      "# Functions\n",
      "\n",
      "Function:\n",
      "    \n",
      "- input (few vars)\n",
      "- processing\n",
      "- output (or None)\n",
      "\n",
      "        def funcname(input):\n",
      "            processing\n",
      "            [return output]\n",
      "        "
     ]
    },
    {
     "cell_type": "code",
     "collapsed": false,
     "input": [
      "def addnum(a, b):\n",
      "    c = (a + b)*2\n",
      "    while c%4 != 0:\n",
      "        c += c\n",
      "    return c\n",
      "\n",
      "print addnum(1, 2)"
     ],
     "language": "python",
     "metadata": {},
     "outputs": [
      {
       "output_type": "stream",
       "stream": "stdout",
       "text": [
        "12\n"
       ]
      }
     ],
     "prompt_number": 27
    },
    {
     "cell_type": "markdown",
     "metadata": {},
     "source": [
      "## Lambda functions (from functional programming)\n",
      "### (~ anonimous funtions)\n",
      "\n",
      "In python only one-line (Van Rossum: python is not functional)"
     ]
    },
    {
     "cell_type": "code",
     "collapsed": false,
     "input": [
      "a = [(x**2, 1.0/y) for x, y in zip(range(1, 5) , range(20, 25))]\n",
      "print a\n",
      "print sorted(a, key = lambda x: x[1])\n",
      "print zip(*sorted(a, key = lambda x: x[1]))[0]"
     ],
     "language": "python",
     "metadata": {},
     "outputs": [
      {
       "output_type": "stream",
       "stream": "stdout",
       "text": [
        "[(1, 0.05), (4, 0.047619047619047616), (9, 0.045454545454545456), (16, 0.043478260869565216)]\n",
        "[(16, 0.043478260869565216), (9, 0.045454545454545456), (4, 0.047619047619047616), (1, 0.05)]\n",
        "(16, 9, 4, 1)\n"
       ]
      }
     ],
     "prompt_number": 25
    },
    {
     "cell_type": "markdown",
     "metadata": {},
     "source": [
      "## Map, reduct (not recommended, too functional and slow in python)\n",
      "\n"
     ]
    },
    {
     "cell_type": "code",
     "collapsed": false,
     "input": [],
     "language": "python",
     "metadata": {},
     "outputs": []
    }
   ],
   "metadata": {}
  }
 ]
}